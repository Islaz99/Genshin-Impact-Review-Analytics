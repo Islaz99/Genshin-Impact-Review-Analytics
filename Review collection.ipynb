{
 "cells": [
  {
   "cell_type": "markdown",
   "id": "508cdf52",
   "metadata": {},
   "source": [
    "# <center> App Review Analysis"
   ]
  },
  {
   "cell_type": "code",
   "execution_count": 1,
   "id": "fc225b2b",
   "metadata": {},
   "outputs": [],
   "source": [
    "import numpy as np\n",
    "import pandas as pd\n",
    "import matplotlib.pyplot as plt\n",
    "%matplotlib inline"
   ]
  },
  {
   "cell_type": "markdown",
   "id": "e7e40435",
   "metadata": {},
   "source": [
    "# Reviews from Google Play"
   ]
  },
  {
   "cell_type": "code",
   "execution_count": 2,
   "id": "4638b5dc",
   "metadata": {},
   "outputs": [
    {
     "name": "stdout",
     "output_type": "stream",
     "text": [
      "Requirement already satisfied: google-play-scraper in /Users/anqizhu/opt/anaconda3/lib/python3.9/site-packages (1.2.3)\n",
      "Note: you may need to restart the kernel to use updated packages.\n"
     ]
    }
   ],
   "source": [
    "pip install google-play-scraper"
   ]
  },
  {
   "cell_type": "code",
   "execution_count": 3,
   "id": "995ea09d",
   "metadata": {},
   "outputs": [],
   "source": [
    "import google_play_scraper as gps\n",
    "\n",
    "app_id = \"com.miHoYo.GenshinImpact\"\n",
    "reviews_goo_en, continuation_token = gps.reviews(app_id, lang='eg', country='US', count=200)\n",
    "reviews_goo_zh, continuation_token = gps.reviews(app_id, lang='zh', country='CN', count=200)"
   ]
  },
  {
   "cell_type": "code",
   "execution_count": 4,
   "id": "d21c0d3a",
   "metadata": {},
   "outputs": [
    {
     "data": {
      "text/plain": [
       "list"
      ]
     },
     "execution_count": 4,
     "metadata": {},
     "output_type": "execute_result"
    }
   ],
   "source": [
    "type(reviews_goo_en)"
   ]
  },
  {
   "cell_type": "code",
   "execution_count": 5,
   "id": "5af08338",
   "metadata": {},
   "outputs": [
    {
     "data": {
      "text/plain": [
       "list"
      ]
     },
     "execution_count": 5,
     "metadata": {},
     "output_type": "execute_result"
    }
   ],
   "source": [
    "type(reviews_goo_zh)"
   ]
  },
  {
   "cell_type": "markdown",
   "id": "7a547016",
   "metadata": {},
   "source": [
    "## English reviews"
   ]
  },
  {
   "cell_type": "code",
   "execution_count": 6,
   "id": "da0b4224",
   "metadata": {},
   "outputs": [
    {
     "data": {
      "text/html": [
       "<div>\n",
       "<style scoped>\n",
       "    .dataframe tbody tr th:only-of-type {\n",
       "        vertical-align: middle;\n",
       "    }\n",
       "\n",
       "    .dataframe tbody tr th {\n",
       "        vertical-align: top;\n",
       "    }\n",
       "\n",
       "    .dataframe thead th {\n",
       "        text-align: right;\n",
       "    }\n",
       "</style>\n",
       "<table border=\"1\" class=\"dataframe\">\n",
       "  <thead>\n",
       "    <tr style=\"text-align: right;\">\n",
       "      <th></th>\n",
       "      <th>reviewId</th>\n",
       "      <th>userName</th>\n",
       "      <th>userImage</th>\n",
       "      <th>content</th>\n",
       "      <th>score</th>\n",
       "      <th>thumbsUpCount</th>\n",
       "      <th>reviewCreatedVersion</th>\n",
       "      <th>at</th>\n",
       "      <th>replyContent</th>\n",
       "      <th>repliedAt</th>\n",
       "    </tr>\n",
       "  </thead>\n",
       "  <tbody>\n",
       "    <tr>\n",
       "      <th>0</th>\n",
       "      <td>dbfd1088-c31f-46a9-8b5c-f7f70b2437b1</td>\n",
       "      <td>delacruz perciva</td>\n",
       "      <td>https://play-lh.googleusercontent.com/a/AEdFTp...</td>\n",
       "      <td>It makes you do what you wanna do not forced w...</td>\n",
       "      <td>5</td>\n",
       "      <td>0</td>\n",
       "      <td>None</td>\n",
       "      <td>2023-02-11 23:55:19</td>\n",
       "      <td>None</td>\n",
       "      <td>NaT</td>\n",
       "    </tr>\n",
       "    <tr>\n",
       "      <th>1</th>\n",
       "      <td>4a8a2163-4189-4f39-9666-dc2df8e23f96</td>\n",
       "      <td>Parth delwar</td>\n",
       "      <td>https://play-lh.googleusercontent.com/a-/AD5-W...</td>\n",
       "      <td>Expected better aniversary rewards</td>\n",
       "      <td>1</td>\n",
       "      <td>0</td>\n",
       "      <td>None</td>\n",
       "      <td>2023-02-11 23:52:17</td>\n",
       "      <td>None</td>\n",
       "      <td>NaT</td>\n",
       "    </tr>\n",
       "    <tr>\n",
       "      <th>2</th>\n",
       "      <td>a7c5f673-76fe-4a29-a6b5-5209525020a3</td>\n",
       "      <td>Ranu Jaiswal</td>\n",
       "      <td>https://play-lh.googleusercontent.com/a/AEdFTp...</td>\n",
       "      <td>This is the game I never played</td>\n",
       "      <td>5</td>\n",
       "      <td>0</td>\n",
       "      <td>3.4.0_12498014_12591909</td>\n",
       "      <td>2023-02-11 23:48:55</td>\n",
       "      <td>None</td>\n",
       "      <td>NaT</td>\n",
       "    </tr>\n",
       "    <tr>\n",
       "      <th>3</th>\n",
       "      <td>7d8535cb-775b-4fe9-b1b8-412dcddc297c</td>\n",
       "      <td>Мистер Никто</td>\n",
       "      <td>https://play-lh.googleusercontent.com/a-/AD5-W...</td>\n",
       "      <td>Підтримують війну</td>\n",
       "      <td>3</td>\n",
       "      <td>1</td>\n",
       "      <td>1.3.0_1825294_1872772</td>\n",
       "      <td>2023-02-11 23:39:21</td>\n",
       "      <td>None</td>\n",
       "      <td>NaT</td>\n",
       "    </tr>\n",
       "    <tr>\n",
       "      <th>4</th>\n",
       "      <td>fe63a7c1-cef3-4106-bc0b-29f2be1d5e29</td>\n",
       "      <td>Vivan Rakmitha</td>\n",
       "      <td>https://play-lh.googleusercontent.com/a/AEdFTp...</td>\n",
       "      <td>I love this game so totally worth it it's easy...</td>\n",
       "      <td>5</td>\n",
       "      <td>0</td>\n",
       "      <td>None</td>\n",
       "      <td>2023-02-11 23:38:16</td>\n",
       "      <td>None</td>\n",
       "      <td>NaT</td>\n",
       "    </tr>\n",
       "  </tbody>\n",
       "</table>\n",
       "</div>"
      ],
      "text/plain": [
       "                               reviewId          userName  \\\n",
       "0  dbfd1088-c31f-46a9-8b5c-f7f70b2437b1  delacruz perciva   \n",
       "1  4a8a2163-4189-4f39-9666-dc2df8e23f96      Parth delwar   \n",
       "2  a7c5f673-76fe-4a29-a6b5-5209525020a3      Ranu Jaiswal   \n",
       "3  7d8535cb-775b-4fe9-b1b8-412dcddc297c      Мистер Никто   \n",
       "4  fe63a7c1-cef3-4106-bc0b-29f2be1d5e29    Vivan Rakmitha   \n",
       "\n",
       "                                           userImage  \\\n",
       "0  https://play-lh.googleusercontent.com/a/AEdFTp...   \n",
       "1  https://play-lh.googleusercontent.com/a-/AD5-W...   \n",
       "2  https://play-lh.googleusercontent.com/a/AEdFTp...   \n",
       "3  https://play-lh.googleusercontent.com/a-/AD5-W...   \n",
       "4  https://play-lh.googleusercontent.com/a/AEdFTp...   \n",
       "\n",
       "                                             content  score  thumbsUpCount  \\\n",
       "0  It makes you do what you wanna do not forced w...      5              0   \n",
       "1                 Expected better aniversary rewards      1              0   \n",
       "2                    This is the game I never played      5              0   \n",
       "3                                  Підтримують війну      3              1   \n",
       "4  I love this game so totally worth it it's easy...      5              0   \n",
       "\n",
       "      reviewCreatedVersion                  at replyContent repliedAt  \n",
       "0                     None 2023-02-11 23:55:19         None       NaT  \n",
       "1                     None 2023-02-11 23:52:17         None       NaT  \n",
       "2  3.4.0_12498014_12591909 2023-02-11 23:48:55         None       NaT  \n",
       "3    1.3.0_1825294_1872772 2023-02-11 23:39:21         None       NaT  \n",
       "4                     None 2023-02-11 23:38:16         None       NaT  "
      ]
     },
     "execution_count": 6,
     "metadata": {},
     "output_type": "execute_result"
    }
   ],
   "source": [
    "goo_en = pd.DataFrame(reviews_goo_en)\n",
    "goo_en.head()"
   ]
  },
  {
   "cell_type": "code",
   "execution_count": 7,
   "id": "3ea5b7d1",
   "metadata": {},
   "outputs": [
    {
     "name": "stdout",
     "output_type": "stream",
     "text": [
      "2023-02-11 06:50:37\n",
      "2023-02-11 23:55:19\n",
      "0 days 17:04:42\n"
     ]
    }
   ],
   "source": [
    "print(goo_en[\"at\"].min())\n",
    "print(goo_en[\"at\"].max())\n",
    "print(goo_en[\"at\"].max()-goo_en[\"at\"].min())"
   ]
  },
  {
   "cell_type": "code",
   "execution_count": 8,
   "id": "6c49528d",
   "metadata": {},
   "outputs": [],
   "source": [
    "## Chinese reviews"
   ]
  },
  {
   "cell_type": "code",
   "execution_count": 9,
   "id": "25b34222",
   "metadata": {},
   "outputs": [
    {
     "data": {
      "text/html": [
       "<div>\n",
       "<style scoped>\n",
       "    .dataframe tbody tr th:only-of-type {\n",
       "        vertical-align: middle;\n",
       "    }\n",
       "\n",
       "    .dataframe tbody tr th {\n",
       "        vertical-align: top;\n",
       "    }\n",
       "\n",
       "    .dataframe thead th {\n",
       "        text-align: right;\n",
       "    }\n",
       "</style>\n",
       "<table border=\"1\" class=\"dataframe\">\n",
       "  <thead>\n",
       "    <tr style=\"text-align: right;\">\n",
       "      <th></th>\n",
       "      <th>reviewId</th>\n",
       "      <th>userName</th>\n",
       "      <th>userImage</th>\n",
       "      <th>content</th>\n",
       "      <th>score</th>\n",
       "      <th>thumbsUpCount</th>\n",
       "      <th>reviewCreatedVersion</th>\n",
       "      <th>at</th>\n",
       "      <th>replyContent</th>\n",
       "      <th>repliedAt</th>\n",
       "    </tr>\n",
       "  </thead>\n",
       "  <tbody>\n",
       "    <tr>\n",
       "      <th>0</th>\n",
       "      <td>e821545e-d6db-4865-a74e-1f65c97eb254</td>\n",
       "      <td>Yi Xiang</td>\n",
       "      <td>https://play-lh.googleusercontent.com/a/AEdFTp...</td>\n",
       "      <td>好玩！！！</td>\n",
       "      <td>5</td>\n",
       "      <td>0</td>\n",
       "      <td>3.4.0_12498014_12591909</td>\n",
       "      <td>2023-02-11 22:31:08</td>\n",
       "      <td>None</td>\n",
       "      <td>NaT</td>\n",
       "    </tr>\n",
       "    <tr>\n",
       "      <th>1</th>\n",
       "      <td>e612512d-9e6f-4529-ad18-d2a37acb1a0f</td>\n",
       "      <td>0oWei Liano0</td>\n",
       "      <td>https://play-lh.googleusercontent.com/a-/AD5-W...</td>\n",
       "      <td>策划没🐴死透了，武器池就是下毒,把玩家当舔狗的🐶玩意，我从来没被一个游戏的抽卡机制那么恶心过...</td>\n",
       "      <td>1</td>\n",
       "      <td>1</td>\n",
       "      <td>1.2.0_1565149_1627898</td>\n",
       "      <td>2023-02-11 21:31:52</td>\n",
       "      <td>None</td>\n",
       "      <td>NaT</td>\n",
       "    </tr>\n",
       "    <tr>\n",
       "      <th>2</th>\n",
       "      <td>f6939608-a7a7-4263-b98c-3ca2d5214544</td>\n",
       "      <td>无名无姓</td>\n",
       "      <td>https://play-lh.googleusercontent.com/a-/AD5-W...</td>\n",
       "      <td>很棒，但是我还希望可以开发出一些可以让角色做的动作，像是躺下或者打招呼这些动作</td>\n",
       "      <td>5</td>\n",
       "      <td>0</td>\n",
       "      <td>3.4.0_12498014_12591909</td>\n",
       "      <td>2023-02-11 20:15:27</td>\n",
       "      <td>None</td>\n",
       "      <td>NaT</td>\n",
       "    </tr>\n",
       "    <tr>\n",
       "      <th>3</th>\n",
       "      <td>eb410249-259d-4153-878d-bc1e41639e9a</td>\n",
       "      <td>SHUYU YANG</td>\n",
       "      <td>https://play-lh.googleusercontent.com/a/AEdFTp...</td>\n",
       "      <td>原神真的很好玩，剧情不但好看，而且过的剧情越多剧情棒而且还没有广告，小孩玩的可能都觉得好😇</td>\n",
       "      <td>5</td>\n",
       "      <td>0</td>\n",
       "      <td>3.4.0_12498014_12591909</td>\n",
       "      <td>2023-02-11 19:23:13</td>\n",
       "      <td>None</td>\n",
       "      <td>NaT</td>\n",
       "    </tr>\n",
       "    <tr>\n",
       "      <th>4</th>\n",
       "      <td>1f9a1980-7c59-46be-8f58-7de7a47cc8d6</td>\n",
       "      <td>陈志峰</td>\n",
       "      <td>https://play-lh.googleusercontent.com/a/AEdFTp...</td>\n",
       "      <td>想问 这个是国际服还是国服？？</td>\n",
       "      <td>2</td>\n",
       "      <td>0</td>\n",
       "      <td>None</td>\n",
       "      <td>2023-02-11 19:03:27</td>\n",
       "      <td>None</td>\n",
       "      <td>NaT</td>\n",
       "    </tr>\n",
       "  </tbody>\n",
       "</table>\n",
       "</div>"
      ],
      "text/plain": [
       "                               reviewId      userName  \\\n",
       "0  e821545e-d6db-4865-a74e-1f65c97eb254      Yi Xiang   \n",
       "1  e612512d-9e6f-4529-ad18-d2a37acb1a0f  0oWei Liano0   \n",
       "2  f6939608-a7a7-4263-b98c-3ca2d5214544          无名无姓   \n",
       "3  eb410249-259d-4153-878d-bc1e41639e9a    SHUYU YANG   \n",
       "4  1f9a1980-7c59-46be-8f58-7de7a47cc8d6           陈志峰   \n",
       "\n",
       "                                           userImage  \\\n",
       "0  https://play-lh.googleusercontent.com/a/AEdFTp...   \n",
       "1  https://play-lh.googleusercontent.com/a-/AD5-W...   \n",
       "2  https://play-lh.googleusercontent.com/a-/AD5-W...   \n",
       "3  https://play-lh.googleusercontent.com/a/AEdFTp...   \n",
       "4  https://play-lh.googleusercontent.com/a/AEdFTp...   \n",
       "\n",
       "                                             content  score  thumbsUpCount  \\\n",
       "0                                              好玩！！！      5              0   \n",
       "1  策划没🐴死透了，武器池就是下毒,把玩家当舔狗的🐶玩意，我从来没被一个游戏的抽卡机制那么恶心过...      1              1   \n",
       "2            很棒，但是我还希望可以开发出一些可以让角色做的动作，像是躺下或者打招呼这些动作      5              0   \n",
       "3      原神真的很好玩，剧情不但好看，而且过的剧情越多剧情棒而且还没有广告，小孩玩的可能都觉得好😇      5              0   \n",
       "4                                    想问 这个是国际服还是国服？？      2              0   \n",
       "\n",
       "      reviewCreatedVersion                  at replyContent repliedAt  \n",
       "0  3.4.0_12498014_12591909 2023-02-11 22:31:08         None       NaT  \n",
       "1    1.2.0_1565149_1627898 2023-02-11 21:31:52         None       NaT  \n",
       "2  3.4.0_12498014_12591909 2023-02-11 20:15:27         None       NaT  \n",
       "3  3.4.0_12498014_12591909 2023-02-11 19:23:13         None       NaT  \n",
       "4                     None 2023-02-11 19:03:27         None       NaT  "
      ]
     },
     "execution_count": 9,
     "metadata": {},
     "output_type": "execute_result"
    }
   ],
   "source": [
    "goo_zh = pd.DataFrame(reviews_goo_zh)\n",
    "goo_zh.head()"
   ]
  },
  {
   "cell_type": "code",
   "execution_count": 10,
   "id": "128d0ce7",
   "metadata": {},
   "outputs": [
    {
     "name": "stdout",
     "output_type": "stream",
     "text": [
      "2023-01-26 23:08:08\n",
      "2023-02-11 22:31:08\n",
      "15 days 23:23:00\n"
     ]
    }
   ],
   "source": [
    "print(goo_zh[\"at\"].min())\n",
    "print(goo_zh[\"at\"].max())\n",
    "print(goo_zh[\"at\"].max()-goo_zh[\"at\"].min())"
   ]
  },
  {
   "cell_type": "markdown",
   "id": "b334417f",
   "metadata": {},
   "source": [
    "# Reviews from App Store"
   ]
  },
  {
   "cell_type": "markdown",
   "id": "3e25b64f",
   "metadata": {},
   "source": [
    "## English reviews"
   ]
  },
  {
   "cell_type": "code",
   "execution_count": 11,
   "id": "91ad15d3",
   "metadata": {},
   "outputs": [
    {
     "name": "stderr",
     "output_type": "stream",
     "text": [
      "2023-02-13 00:07:27,482 [INFO] Base - Initialised: AppStore('us', 'genshin-impact-lantern-rite', 1517783697)\n",
      "2023-02-13 00:07:27,485 [INFO] Base - Ready to fetch reviews from: https://apps.apple.com/us/app/genshin-impact-lantern-rite/id1517783697\n",
      "2023-02-13 00:07:28,526 [INFO] Base - [id:1517783697] Fetched 200 reviews (200 fetched in total)\n"
     ]
    },
    {
     "data": {
      "text/plain": [
       "list"
      ]
     },
     "execution_count": 11,
     "metadata": {},
     "output_type": "execute_result"
    }
   ],
   "source": [
    "from app_store_scraper import AppStore\n",
    "\n",
    "reviews_app_us = AppStore(country=\"us\", app_name=\"genshin-impact-lantern-rite\", app_id=1517783697)\n",
    "reviews_app_us.review(how_many=200)\n",
    "type(reviews_app_us.reviews)"
   ]
  },
  {
   "cell_type": "code",
   "execution_count": 12,
   "id": "0585ee86",
   "metadata": {},
   "outputs": [
    {
     "data": {
      "text/html": [
       "<div>\n",
       "<style scoped>\n",
       "    .dataframe tbody tr th:only-of-type {\n",
       "        vertical-align: middle;\n",
       "    }\n",
       "\n",
       "    .dataframe tbody tr th {\n",
       "        vertical-align: top;\n",
       "    }\n",
       "\n",
       "    .dataframe thead th {\n",
       "        text-align: right;\n",
       "    }\n",
       "</style>\n",
       "<table border=\"1\" class=\"dataframe\">\n",
       "  <thead>\n",
       "    <tr style=\"text-align: right;\">\n",
       "      <th></th>\n",
       "      <th>date</th>\n",
       "      <th>review</th>\n",
       "      <th>rating</th>\n",
       "      <th>isEdited</th>\n",
       "      <th>userName</th>\n",
       "      <th>title</th>\n",
       "      <th>developerResponse</th>\n",
       "    </tr>\n",
       "  </thead>\n",
       "  <tbody>\n",
       "    <tr>\n",
       "      <th>0</th>\n",
       "      <td>2023-02-05 18:24:59</td>\n",
       "      <td>I tried downloading this game but for some rea...</td>\n",
       "      <td>4</td>\n",
       "      <td>False</td>\n",
       "      <td>Hello142801</td>\n",
       "      <td>Please help with this HOYOVERSE…</td>\n",
       "      <td>NaN</td>\n",
       "    </tr>\n",
       "    <tr>\n",
       "      <th>1</th>\n",
       "      <td>2021-11-24 10:20:31</td>\n",
       "      <td>I remember starting Genshin with a wondrous. E...</td>\n",
       "      <td>5</td>\n",
       "      <td>False</td>\n",
       "      <td>Yaahuuu</td>\n",
       "      <td>The only thing saving me from boredom</td>\n",
       "      <td>NaN</td>\n",
       "    </tr>\n",
       "    <tr>\n",
       "      <th>2</th>\n",
       "      <td>2021-02-18 13:20:18</td>\n",
       "      <td>This game is insane. I’ve played now for a tot...</td>\n",
       "      <td>5</td>\n",
       "      <td>False</td>\n",
       "      <td>CraftiBadger</td>\n",
       "      <td>AAA Title for free</td>\n",
       "      <td>NaN</td>\n",
       "    </tr>\n",
       "    <tr>\n",
       "      <th>3</th>\n",
       "      <td>2021-07-06 22:14:14</td>\n",
       "      <td>The title of this review says it all. Let me s...</td>\n",
       "      <td>5</td>\n",
       "      <td>False</td>\n",
       "      <td>Yahoosportsisbadbadbad</td>\n",
       "      <td>Awesome.</td>\n",
       "      <td>NaN</td>\n",
       "    </tr>\n",
       "    <tr>\n",
       "      <th>4</th>\n",
       "      <td>2022-11-02 03:45:09</td>\n",
       "      <td>Summing this entire review up in one statement...</td>\n",
       "      <td>4</td>\n",
       "      <td>False</td>\n",
       "      <td>Jftech01</td>\n",
       "      <td>Wonderful game, just somewhat predictable and ...</td>\n",
       "      <td>NaN</td>\n",
       "    </tr>\n",
       "  </tbody>\n",
       "</table>\n",
       "</div>"
      ],
      "text/plain": [
       "                 date                                             review  \\\n",
       "0 2023-02-05 18:24:59  I tried downloading this game but for some rea...   \n",
       "1 2021-11-24 10:20:31  I remember starting Genshin with a wondrous. E...   \n",
       "2 2021-02-18 13:20:18  This game is insane. I’ve played now for a tot...   \n",
       "3 2021-07-06 22:14:14  The title of this review says it all. Let me s...   \n",
       "4 2022-11-02 03:45:09  Summing this entire review up in one statement...   \n",
       "\n",
       "   rating  isEdited                userName  \\\n",
       "0       4     False             Hello142801   \n",
       "1       5     False                 Yaahuuu   \n",
       "2       5     False            CraftiBadger   \n",
       "3       5     False  Yahoosportsisbadbadbad   \n",
       "4       4     False                Jftech01   \n",
       "\n",
       "                                               title developerResponse  \n",
       "0                   Please help with this HOYOVERSE…               NaN  \n",
       "1              The only thing saving me from boredom               NaN  \n",
       "2                                 AAA Title for free               NaN  \n",
       "3                                           Awesome.               NaN  \n",
       "4  Wonderful game, just somewhat predictable and ...               NaN  "
      ]
     },
     "execution_count": 12,
     "metadata": {},
     "output_type": "execute_result"
    }
   ],
   "source": [
    "app_us = pd.DataFrame(reviews_app_us.reviews)\n",
    "app_us.head()"
   ]
  },
  {
   "cell_type": "code",
   "execution_count": 13,
   "id": "77594b2e",
   "metadata": {},
   "outputs": [
    {
     "name": "stdout",
     "output_type": "stream",
     "text": [
      "<class 'pandas.core.frame.DataFrame'>\n",
      "RangeIndex: 200 entries, 0 to 199\n",
      "Data columns (total 7 columns):\n",
      " #   Column             Non-Null Count  Dtype         \n",
      "---  ------             --------------  -----         \n",
      " 0   date               200 non-null    datetime64[ns]\n",
      " 1   review             200 non-null    object        \n",
      " 2   rating             200 non-null    int64         \n",
      " 3   isEdited           200 non-null    bool          \n",
      " 4   userName           200 non-null    object        \n",
      " 5   title              200 non-null    object        \n",
      " 6   developerResponse  2 non-null      object        \n",
      "dtypes: bool(1), datetime64[ns](1), int64(1), object(4)\n",
      "memory usage: 9.7+ KB\n"
     ]
    }
   ],
   "source": [
    "app_us.info()"
   ]
  },
  {
   "cell_type": "code",
   "execution_count": 14,
   "id": "6f2b694e",
   "metadata": {},
   "outputs": [
    {
     "name": "stdout",
     "output_type": "stream",
     "text": [
      "2020-09-28 03:13:24\n",
      "2023-02-07 01:21:50\n",
      "861 days 22:08:26\n"
     ]
    }
   ],
   "source": [
    "print(app_us[\"date\"].min())\n",
    "print(app_us[\"date\"].max())\n",
    "print(app_us[\"date\"].max()-app_us[\"date\"].min())"
   ]
  },
  {
   "cell_type": "markdown",
   "id": "0395dc17",
   "metadata": {},
   "source": [
    "## Chinese reviews"
   ]
  },
  {
   "cell_type": "code",
   "execution_count": 15,
   "id": "14c5750b",
   "metadata": {},
   "outputs": [
    {
     "name": "stderr",
     "output_type": "stream",
     "text": [
      "2023-02-13 00:07:29,150 [INFO] Base - Initialised: AppStore('cn', '-e5-8e-9f-e7-a5-9e-e6-b5-b7-e7-81-af-e8-8a-82', 1467190251)\n",
      "2023-02-13 00:07:29,151 [INFO] Base - Ready to fetch reviews from: https://apps.apple.com/cn/app/-e5-8e-9f-e7-a5-9e-e6-b5-b7-e7-81-af-e8-8a-82/id1467190251\n",
      "2023-02-13 00:07:51,990 [ERROR] Base - Something went wrong: HTTPSConnectionPool(host='amp-api.apps.apple.com', port=443): Max retries exceeded with url: /v1/catalog/cn/apps/1467190251/reviews?l=en-GB&offset=20&limit=20&platform=web&additionalPlatforms=appletv%2Cipad%2Ciphone%2Cmac (Caused by ResponseError('too many 429 error responses'))\n",
      "2023-02-13 00:07:51,996 [INFO] Base - [id:1467190251] Fetched 20 reviews (20 fetched in total)\n"
     ]
    }
   ],
   "source": [
    "from urllib.parse import quote\n",
    "\n",
    "reviews_app_cn = AppStore(country=\"cn\", app_name=quote(\"原神-海灯节\"), app_id=1467190251)\n",
    "reviews_app_cn.review(how_many=200) \n"
   ]
  },
  {
   "cell_type": "code",
   "execution_count": 16,
   "id": "1db3d309",
   "metadata": {},
   "outputs": [
    {
     "data": {
      "text/html": [
       "<div>\n",
       "<style scoped>\n",
       "    .dataframe tbody tr th:only-of-type {\n",
       "        vertical-align: middle;\n",
       "    }\n",
       "\n",
       "    .dataframe tbody tr th {\n",
       "        vertical-align: top;\n",
       "    }\n",
       "\n",
       "    .dataframe thead th {\n",
       "        text-align: right;\n",
       "    }\n",
       "</style>\n",
       "<table border=\"1\" class=\"dataframe\">\n",
       "  <thead>\n",
       "    <tr style=\"text-align: right;\">\n",
       "      <th></th>\n",
       "      <th>date</th>\n",
       "      <th>review</th>\n",
       "      <th>rating</th>\n",
       "      <th>isEdited</th>\n",
       "      <th>userName</th>\n",
       "      <th>title</th>\n",
       "    </tr>\n",
       "  </thead>\n",
       "  <tbody>\n",
       "    <tr>\n",
       "      <th>0</th>\n",
       "      <td>2023-01-27 17:02:49</td>\n",
       "      <td>我现在才玩了4，5个月吧是我同学推荐我玩的我不怎么肝现在也才45级，我现在四个金两个是常驻全...</td>\n",
       "      <td>4</td>\n",
       "      <td>False</td>\n",
       "      <td>范奕闻</td>\n",
       "      <td>改改抽卡求求了</td>\n",
       "    </tr>\n",
       "    <tr>\n",
       "      <th>1</th>\n",
       "      <td>2023-01-24 03:32:40</td>\n",
       "      <td>我翻了一些低星评论，发现大部分都是吐槽抽卡机制，说自己60多抽没出五星，80多抽出了五星但是...</td>\n",
       "      <td>5</td>\n",
       "      <td>False</td>\n",
       "      <td>王熙*</td>\n",
       "      <td>很好的游戏，但有人故意诋毁</td>\n",
       "    </tr>\n",
       "    <tr>\n",
       "      <th>2</th>\n",
       "      <td>2023-01-20 15:09:21</td>\n",
       "      <td>这是我认为有点欠缺的地方：\\n①虽然游戏中设有反馈入口，但反馈要求大部分是bug问题（202...</td>\n",
       "      <td>4</td>\n",
       "      <td>False</td>\n",
       "      <td>我是蔡喵厨</td>\n",
       "      <td>问题反馈及客服</td>\n",
       "    </tr>\n",
       "    <tr>\n",
       "      <th>3</th>\n",
       "      <td>2023-01-18 03:05:19</td>\n",
       "      <td>首先，原神的画质剧情角色战斗机制做的不错，其次：我作为一个虽然刚入坑20抽就出金的人，虽然但...</td>\n",
       "      <td>4</td>\n",
       "      <td>False</td>\n",
       "      <td>蜜桃呵呵哒</td>\n",
       "      <td>米哈游改改抽卡机制吧！！！！</td>\n",
       "    </tr>\n",
       "    <tr>\n",
       "      <th>4</th>\n",
       "      <td>2022-10-06 07:57:10</td>\n",
       "      <td>从1.1的钟离池就开始玩了，已经有了两三个小号，我个人感受原神真的挺好玩的，我个人对于游戏的...</td>\n",
       "      <td>5</td>\n",
       "      <td>False</td>\n",
       "      <td>海之巨龙</td>\n",
       "      <td>原神老玩家</td>\n",
       "    </tr>\n",
       "  </tbody>\n",
       "</table>\n",
       "</div>"
      ],
      "text/plain": [
       "                 date                                             review  \\\n",
       "0 2023-01-27 17:02:49  我现在才玩了4，5个月吧是我同学推荐我玩的我不怎么肝现在也才45级，我现在四个金两个是常驻全...   \n",
       "1 2023-01-24 03:32:40  我翻了一些低星评论，发现大部分都是吐槽抽卡机制，说自己60多抽没出五星，80多抽出了五星但是...   \n",
       "2 2023-01-20 15:09:21  这是我认为有点欠缺的地方：\\n①虽然游戏中设有反馈入口，但反馈要求大部分是bug问题（202...   \n",
       "3 2023-01-18 03:05:19  首先，原神的画质剧情角色战斗机制做的不错，其次：我作为一个虽然刚入坑20抽就出金的人，虽然但...   \n",
       "4 2022-10-06 07:57:10  从1.1的钟离池就开始玩了，已经有了两三个小号，我个人感受原神真的挺好玩的，我个人对于游戏的...   \n",
       "\n",
       "   rating  isEdited userName           title  \n",
       "0       4     False      范奕闻         改改抽卡求求了  \n",
       "1       5     False      王熙*   很好的游戏，但有人故意诋毁  \n",
       "2       4     False    我是蔡喵厨         问题反馈及客服  \n",
       "3       4     False    蜜桃呵呵哒  米哈游改改抽卡机制吧！！！！  \n",
       "4       5     False     海之巨龙           原神老玩家  "
      ]
     },
     "execution_count": 16,
     "metadata": {},
     "output_type": "execute_result"
    }
   ],
   "source": [
    "app_cn = pd.DataFrame(reviews_app_cn.reviews)\n",
    "app_cn.head()"
   ]
  },
  {
   "cell_type": "code",
   "execution_count": 17,
   "id": "2e066fcf",
   "metadata": {},
   "outputs": [
    {
     "name": "stdout",
     "output_type": "stream",
     "text": [
      "2020-11-10 23:21:14\n",
      "2023-01-27 17:02:49\n",
      "807 days 17:41:35\n"
     ]
    }
   ],
   "source": [
    "print(app_cn[\"date\"].min())\n",
    "print(app_cn[\"date\"].max())\n",
    "print(app_cn[\"date\"].max()-app_cn[\"date\"].min())"
   ]
  },
  {
   "cell_type": "markdown",
   "id": "3bda2115",
   "metadata": {},
   "source": [
    "# Save as CSV"
   ]
  },
  {
   "cell_type": "code",
   "execution_count": 18,
   "id": "3b268641",
   "metadata": {},
   "outputs": [],
   "source": [
    "goo_en.to_csv(\"goo_en.csv\")\n",
    "goo_zh.to_csv(\"goo_zh.csv\")\n",
    "app_us.to_csv(\"app_us.csv\")\n",
    "app_cn.to_csv(\"app_cn.csv\")"
   ]
  },
  {
   "cell_type": "code",
   "execution_count": null,
   "id": "7444ba56",
   "metadata": {},
   "outputs": [],
   "source": []
  }
 ],
 "metadata": {
  "kernelspec": {
   "display_name": "Python 3 (ipykernel)",
   "language": "python",
   "name": "python3"
  },
  "language_info": {
   "codemirror_mode": {
    "name": "ipython",
    "version": 3
   },
   "file_extension": ".py",
   "mimetype": "text/x-python",
   "name": "python",
   "nbconvert_exporter": "python",
   "pygments_lexer": "ipython3",
   "version": "3.9.12"
  }
 },
 "nbformat": 4,
 "nbformat_minor": 5
}
